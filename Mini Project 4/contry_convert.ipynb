{
 "cells": [
  {
   "cell_type": "code",
   "execution_count": null,
   "metadata": {},
   "outputs": [
    {
     "name": "stdout",
     "output_type": "stream",
     "text": [
      "Data saved to housing_costs.csv\n"
     ]
    }
   ],
   "source": [
    "import requests\n",
    "import pandas as pd\n",
    "import certifi\n",
    "import io\n",
    "\n",
    "# Your Census API Key\n",
    "api_key = \"34ddb1ab7d24edad01946182fca5446955cdc8aa\"\n",
    "\n",
    "# Census API endpoint for ACS 5-Year Data (2023)\n",
    "base_url = \"https://api.census.gov/data/2023/acs/acs5\"\n",
    "\n",
    "# Variables to fetch\n",
    "variables = [\"B25071_001E\"]  # Median Gross Rent as % of Income\n",
    "fields = \",\".join(variables)\n",
    "\n",
    "# Fetch data for all counties with certificate verification using certifi\n",
    "params = {\n",
    "    \"get\": f\"{fields},NAME\",\n",
    "    \"for\": \"county:*\",\n",
    "    \"key\": api_key\n",
    "}\n",
    "response = requests.get(base_url, params=params, verify=certifi.where())\n",
    "data = response.json()\n",
    "\n",
    "# Convert to DataFrame\n",
    "columns = [\"Median Rent % Income\", \"County\", \"State Code\", \"County Code\"]\n",
    "df = pd.DataFrame(data[1:], columns=columns)\n",
    "\n",
    "# Convert Rent % Income to numeric\n",
    "df[\"Median Rent % Income\"] = pd.to_numeric(df[\"Median Rent % Income\"], errors=\"coerce\")\n",
    "\n",
    "# Merge with state FIPS codes for easier mapping\n",
    "state_fips_url = \"https://www2.census.gov/geo/docs/reference/state.txt\"\n",
    "# Fetch the state FIPS data with proper SSL certificate verification\n",
    "state_fips_response = requests.get(state_fips_url, verify=certifi.where())\n",
    "state_fips = pd.read_csv(io.StringIO(state_fips_response.text), sep=\"|\", usecols=[\"STATE\", \"STUSAB\"])\n",
    "state_fips[\"STATE\"] = state_fips[\"STATE\"].astype(str).str.zfill(2)\n",
    "\n",
    "# Merge Data\n",
    "df = df.merge(state_fips, left_on=\"State Code\", right_on=\"STATE\", how=\"left\").drop(columns=[\"STATE\"])\n",
    "df.rename(columns={\"STUSAB\": \"State\"}, inplace=True)\n",
    "\n",
    "# Save to CSV for Tableau\n",
    "df.to_csv(\"housing_costs.csv\", index=False)\n",
    "\n",
    "print(\"Data saved to housing_costs.csv\")"
   ]
  },
  {
   "cell_type": "code",
   "execution_count": 2,
   "metadata": {},
   "outputs": [
    {
     "name": "stdout",
     "output_type": "stream",
     "text": [
      "Requirement already satisfied: certifi in /Library/Frameworks/Python.framework/Versions/3.13/lib/python3.13/site-packages (2024.12.14)\n",
      "\n",
      "\u001b[1m[\u001b[0m\u001b[34;49mnotice\u001b[0m\u001b[1;39;49m]\u001b[0m\u001b[39;49m A new release of pip is available: \u001b[0m\u001b[31;49m25.0\u001b[0m\u001b[39;49m -> \u001b[0m\u001b[32;49m25.0.1\u001b[0m\n",
      "\u001b[1m[\u001b[0m\u001b[34;49mnotice\u001b[0m\u001b[1;39;49m]\u001b[0m\u001b[39;49m To update, run: \u001b[0m\u001b[32;49mpip install --upgrade pip\u001b[0m\n",
      "Note: you may need to restart the kernel to use updated packages.\n"
     ]
    }
   ],
   "source": [
    "pip install certifi\n"
   ]
  },
  {
   "cell_type": "code",
   "execution_count": 5,
   "metadata": {},
   "outputs": [
    {
     "ename": "ModuleNotFoundError",
     "evalue": "No module named 'ipywidgets'",
     "output_type": "error",
     "traceback": [
      "\u001b[0;31m---------------------------------------------------------------------------\u001b[0m",
      "\u001b[0;31mModuleNotFoundError\u001b[0m                       Traceback (most recent call last)",
      "Cell \u001b[0;32mIn[5], line 5\u001b[0m\n\u001b[1;32m      2\u001b[0m \u001b[38;5;28;01mimport\u001b[39;00m\u001b[38;5;250m \u001b[39m\u001b[38;5;21;01mmatplotlib\u001b[39;00m\u001b[38;5;21;01m.\u001b[39;00m\u001b[38;5;21;01mpyplot\u001b[39;00m\u001b[38;5;250m \u001b[39m\u001b[38;5;28;01mas\u001b[39;00m\u001b[38;5;250m \u001b[39m\u001b[38;5;21;01mplt\u001b[39;00m\n\u001b[1;32m      4\u001b[0m \u001b[38;5;66;03m# For interactive widgets in Jupyter\u001b[39;00m\n\u001b[0;32m----> 5\u001b[0m \u001b[38;5;28;01mfrom\u001b[39;00m\u001b[38;5;250m \u001b[39m\u001b[38;5;21;01mipywidgets\u001b[39;00m\u001b[38;5;250m \u001b[39m\u001b[38;5;28;01mimport\u001b[39;00m interactive, FloatSlider\n\u001b[1;32m      6\u001b[0m \u001b[38;5;28;01mimport\u001b[39;00m\u001b[38;5;250m \u001b[39m\u001b[38;5;21;01mIPython\u001b[39;00m\u001b[38;5;21;01m.\u001b[39;00m\u001b[38;5;21;01mdisplay\u001b[39;00m\u001b[38;5;250m \u001b[39m\u001b[38;5;28;01mas\u001b[39;00m\u001b[38;5;250m \u001b[39m\u001b[38;5;21;01mdisplay\u001b[39;00m\n\u001b[1;32m      8\u001b[0m \u001b[38;5;66;03m# Ensure inline plotting (in a Jupyter notebook)\u001b[39;00m\n\u001b[1;32m      9\u001b[0m \u001b[38;5;66;03m# %matplotlib inline\u001b[39;00m\n",
      "\u001b[0;31mModuleNotFoundError\u001b[0m: No module named 'ipywidgets'"
     ]
    }
   ],
   "source": []
  }
 ],
 "metadata": {
  "kernelspec": {
   "display_name": "Python 3",
   "language": "python",
   "name": "python3"
  },
  "language_info": {
   "codemirror_mode": {
    "name": "ipython",
    "version": 3
   },
   "file_extension": ".py",
   "mimetype": "text/x-python",
   "name": "python",
   "nbconvert_exporter": "python",
   "pygments_lexer": "ipython3",
   "version": "3.13.1"
  }
 },
 "nbformat": 4,
 "nbformat_minor": 2
}
